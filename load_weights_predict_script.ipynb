{
 "cells": [
  {
   "cell_type": "code",
   "execution_count": 2,
   "metadata": {},
   "outputs": [
    {
     "name": "stderr",
     "output_type": "stream",
     "text": [
      "/users/manyu/anaconda3/envs/tensorflow/lib/python2.7/site-packages/h5py/__init__.py:36: FutureWarning: Conversion of the second argument of issubdtype from `float` to `np.floating` is deprecated. In future, it will be treated as `np.float64 == np.dtype(float).type`.\n",
      "  from ._conv import register_converters as _register_converters\n",
      "Using TensorFlow backend.\n"
     ]
    },
    {
     "data": {
      "text/plain": [
       "<tensorflow.python.client.session.Session at 0x7f8b8aca7d10>"
      ]
     },
     "execution_count": 2,
     "metadata": {},
     "output_type": "execute_result"
    }
   ],
   "source": [
    "import tensorflow as tf\n",
    "import os\n",
    "import keras.backend as K\n",
    "DEFER_DELETE_SIZE=int(250 * 1e6) \n",
    "def create_tensorflow_session(visiblegpus):\n",
    "    os.environ['CUDA_VISIBLE_DEVICES'] = str(visiblegpus)\n",
    "    session_config = tf.ConfigProto()\n",
    "    session_config.gpu_options.deferred_deletion_bytes = DEFER_DELETE_SIZE\n",
    "    session_config.gpu_options.per_process_gpu_memory_fraction = 0.20\n",
    "    session = tf.Session(config=session_config)\n",
    "    K.set_session(session)\n",
    "    return session\n",
    "create_tensorflow_session(1)"
   ]
  },
  {
   "cell_type": "code",
   "execution_count": 4,
   "metadata": {},
   "outputs": [],
   "source": [
    "import sys"
   ]
  },
  {
   "cell_type": "code",
   "execution_count": 5,
   "metadata": {},
   "outputs": [],
   "source": [
    "sys.path.append('../')"
   ]
  },
  {
   "cell_type": "code",
   "execution_count": 22,
   "metadata": {},
   "outputs": [],
   "source": [
    "from models import *\n",
    "from io_utils import *"
   ]
  },
  {
   "cell_type": "code",
   "execution_count": 28,
   "metadata": {},
   "outputs": [],
   "source": [
    "Model=SequenceDNAseClassifier()"
   ]
  },
  {
   "cell_type": "code",
   "execution_count": 30,
   "metadata": {},
   "outputs": [],
   "source": [
    "Model.load_weights(filepath='./SeqDnaseModel.weights.h5')"
   ]
  },
  {
   "cell_type": "code",
   "execution_count": 38,
   "metadata": {},
   "outputs": [],
   "source": [
    "    def predict_on_batch(Model,batch_data_dict):\n",
    "        \"\"\" batch_data_dict is a dictionary of data type to numpy array\n",
    "        This is completely equivalent to doing model.model.predict_on_batch\n",
    "\n",
    "        \"\"\"\n",
    "        inputs=[batch_data_dict['data/genome_data_dir'],batch_data_dict['data/dnase_data_dir']]\n",
    "        preds_=Model.model.predict_on_batch(inputs)\n",
    "        return preds_\n",
    "\n",
    "    def predict_on_intervals(Model,intervals,extractor_dict,batch_size=128):\n",
    "        \"\"\" Args:\n",
    "            intervals: raw intervals file \n",
    "            extractor_dict: dictionary of data type to corresponding genomelake extractor\n",
    "        \"\"\"    \n",
    "        batch_generator=generate_from_intervals(intervals=intervals,data_extractors_dict=extractor_dict,indefinitely=False,batch_size=batch_size)\n",
    "        predict_list=[]\n",
    "        target=len(intervals)\n",
    "        progbar=Progbar(target=target)\n",
    "        total=0\n",
    "        for batch_dict in batch_generator:\n",
    "            total+=batch_size\n",
    "            if total>target:\n",
    "                total=target\n",
    "            predict_list.append(predict_on_batch(Model,batch_dict))\n",
    "            progbar.update(total)\n",
    "        return np.vstack(predict_list)\n",
    "\n"
   ]
  },
  {
   "cell_type": "code",
   "execution_count": 17,
   "metadata": {},
   "outputs": [],
   "source": [
    "##Path to the extracted the Genome and DNAse\n",
    "from genomelake.extractors import ArrayExtractor\n",
    "genome_file_path='/srv/scratch/manyu/Baseline_TF_binding_models/extracted_data/GRCh38.p3.genome.fa/'\n",
    "dnase_file_path='/srv/scratch/manyu/memmap_bcolz/DNASE.K562.fc.signal.hg38.bigwig/'\n",
    "genome_extractor=ArrayExtractor(genome_file_path)\n",
    "dnase_extractor=ArrayExtractor(dnase_file_path)\n",
    "extractors_dict={'data/genome_data_dir':genome_extractor,'data/dnase_data_dir':dnase_extractor}\n"
   ]
  },
  {
   "cell_type": "code",
   "execution_count": 19,
   "metadata": {},
   "outputs": [],
   "source": [
    "validation_intervals_file_dnase_regions='/srv/scratch/manyu/TF_binding_tensorflow/data/validation_intervals.bed'\n",
    "validation_intervals_file_dnase_regions_labels='/srv/scratch/manyu/TF_binding_tensorflow/data/validation_labels.npy'"
   ]
  },
  {
   "cell_type": "code",
   "execution_count": 20,
   "metadata": {},
   "outputs": [],
   "source": [
    "from pybedtools import BedTool\n",
    "validation_intervals=BedTool(validation_intervals_file_dnase_regions)"
   ]
  },
  {
   "cell_type": "code",
   "execution_count": 39,
   "metadata": {},
   "outputs": [
    {
     "name": "stdout",
     "output_type": "stream",
     "text": [
      "15037/15037 [==============================] - 8s 538us/step\n"
     ]
    }
   ],
   "source": [
    "preds=predict_on_intervals(Model,validation_intervals,extractors_dict)"
   ]
  },
  {
   "cell_type": "code",
   "execution_count": 24,
   "metadata": {},
   "outputs": [],
   "source": [
    "from keras.utils.generic_utils import Progbar"
   ]
  },
  {
   "cell_type": "code",
   "execution_count": 41,
   "metadata": {},
   "outputs": [
    {
     "data": {
      "text/plain": [
       "(15037, 1)"
      ]
     },
     "execution_count": 41,
     "metadata": {},
     "output_type": "execute_result"
    }
   ],
   "source": [
    "preds.shape"
   ]
  },
  {
   "cell_type": "code",
   "execution_count": 42,
   "metadata": {},
   "outputs": [],
   "source": [
    "labels=np.load(validation_intervals_file_dnase_regions_labels)"
   ]
  },
  {
   "cell_type": "code",
   "execution_count": 45,
   "metadata": {},
   "outputs": [],
   "source": [
    "from metrics import ClassificationResult"
   ]
  },
  {
   "cell_type": "code",
   "execution_count": 46,
   "metadata": {},
   "outputs": [],
   "source": [
    "res=ClassificationResult(labels=labels,predictions=preds)"
   ]
  },
  {
   "cell_type": "code",
   "execution_count": 53,
   "metadata": {},
   "outputs": [],
   "source": [
    "from sklearn import metrics"
   ]
  },
  {
   "cell_type": "code",
   "execution_count": 59,
   "metadata": {},
   "outputs": [],
   "source": [
    "fpr,tpr,thr=metrics.roc_curve(labels,preds)"
   ]
  },
  {
   "cell_type": "code",
   "execution_count": 60,
   "metadata": {},
   "outputs": [],
   "source": [
    "import matplotlib.pyplot as plt"
   ]
  },
  {
   "cell_type": "code",
   "execution_count": 62,
   "metadata": {},
   "outputs": [
    {
     "data": {
      "text/plain": [
       "[<matplotlib.lines.Line2D at 0x7f88d8c5d610>]"
      ]
     },
     "execution_count": 62,
     "metadata": {},
     "output_type": "execute_result"
    },
    {
     "data": {
      "image/png": "[encoded data removed]",
      "text/plain": [
       "<matplotlib.figure.Figure at 0x7f8913e101d0>"
      ]
     },
     "metadata": {},
     "output_type": "display_data"
    }
   ],
   "source": [
    "plt.plot(fpr,tpr)"
   ]
  },
  {
   "cell_type": "code",
   "execution_count": null,
   "metadata": {},
   "outputs": [],
   "source": []
  }
 ],
 "metadata": {
  "kernelspec": {
   "display_name": "Python 2",
   "language": "python",
   "name": "python2"
  },
  "language_info": {
   "codemirror_mode": {
    "name": "ipython",
    "version": 2
   },
   "file_extension": ".py",
   "mimetype": "text/x-python",
   "name": "python",
   "nbconvert_exporter": "python",
   "pygments_lexer": "ipython2",
   "version": "2.7.13"
  }
 },
 "nbformat": 4,
 "nbformat_minor": 2
}

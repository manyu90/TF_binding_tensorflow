{
 "cells": [
  {
   "cell_type": "code",
   "execution_count": 1,
   "metadata": {
    "collapsed": false
   },
   "outputs": [
    {
     "name": "stderr",
     "output_type": "stream",
     "text": [
      "Using TensorFlow backend.\n"
     ]
    }
   ],
   "source": [
    "from models import*"
   ]
  },
  {
   "cell_type": "code",
   "execution_count": 2,
   "metadata": {
    "collapsed": false
   },
   "outputs": [],
   "source": [
    "import tensorflow as tf\n",
    "import keras.backend as K\n",
    "import os\n",
    "import numpy as np\n",
    "import genomelake\n",
    "from genomelake.extractors import ArrayExtractor\n",
    "from pybedtools import BedTool\n",
    "from io_utils import batch_iterator\n",
    "from sklearn import metrics\n",
    "from keras.layers import Input"
   ]
  },
  {
   "cell_type": "code",
   "execution_count": 3,
   "metadata": {
    "collapsed": true
   },
   "outputs": [],
   "source": [
    "DEFER_DELETE_SIZE=int(250 * 1e6) \n",
    "def create_tensorflow_session(visiblegpus):\n",
    "    os.environ['CUDA_VISIBLE_DEVICES'] = str(visiblegpus)\n",
    "    session_config = tf.ConfigProto()\n",
    "    session_config.gpu_options.deferred_deletion_bytes = DEFER_DELETE_SIZE\n",
    "    session_config.gpu_options.per_process_gpu_memory_fraction = 0.2\n",
    "    session = tf.Session(config=session_config)\n",
    "    K.set_session(session)\n",
    "    return session\n"
   ]
  },
  {
   "cell_type": "code",
   "execution_count": 4,
   "metadata": {
    "collapsed": false
   },
   "outputs": [],
   "source": [
    "sess=create_tensorflow_session(1)\n"
   ]
  },
  {
   "cell_type": "code",
   "execution_count": 5,
   "metadata": {
    "collapsed": false
   },
   "outputs": [
    {
     "name": "stderr",
     "output_type": "stream",
     "text": [
      "models.py:111: UserWarning: Update your `Dense` call to the Keras 2 API: `Dense(units=1)`\n",
      "  seq_preds = Dense(output_dim=num_tasks)(seq_preds)\n",
      "models.py:139: UserWarning: The `Merge` layer is deprecated and will be removed after 08/2017. Use instead layers from `keras.layers.merge`, e.g. `add`, `concatenate`, etc.\n",
      "  logits = Merge(mode='concat', concat_axis=2)([seq_preds, methylation_preds])\n",
      "models.py:225: UserWarning: The `Merge` layer is deprecated and will be removed after 08/2017. Use instead layers from `keras.layers.merge`, e.g. `add`, `concatenate`, etc.\n",
      "  logits = Merge(mode='concat', concat_axis=-1)([seq_preds, dnase_preds])\n"
     ]
    }
   ],
   "source": [
    "SeqClassifier=SequenceClassifier()\n",
    "SeqMethClassifier=SequenceMethylationClassifier()\n",
    "SeqDnaseClassifier=SequenceDNAseClassifier()"
   ]
  },
  {
   "cell_type": "code",
   "execution_count": 6,
   "metadata": {
    "collapsed": false
   },
   "outputs": [
    {
     "data": {
      "text/plain": [
       "True"
      ]
     },
     "execution_count": 6,
     "metadata": {},
     "output_type": "execute_result"
    }
   ],
   "source": [
    "SeqDnaseClassifier.inputs['data/dnase_data_dir']==dnase_placeholder"
   ]
  },
  {
   "cell_type": "code",
   "execution_count": 7,
   "metadata": {
    "collapsed": false
   },
   "outputs": [
    {
     "data": {
      "text/plain": [
       "OrderedDict([('data/genome_data_dir',\n",
       "              <tf.Tensor 'input_1:0' shape=(?, 1000, 4) dtype=float32>),\n",
       "             ('data/dnase_data_dir',\n",
       "              <tf.Tensor 'input_3:0' shape=(?, 1000, 1) dtype=float32>)])"
      ]
     },
     "execution_count": 7,
     "metadata": {},
     "output_type": "execute_result"
    }
   ],
   "source": [
    "SeqDnaseClassifier.inputs"
   ]
  },
  {
   "cell_type": "code",
   "execution_count": 8,
   "metadata": {
    "collapsed": false
   },
   "outputs": [],
   "source": [
    "batch_size=128\n",
    "num_epochs=10"
   ]
  },
  {
   "cell_type": "code",
   "execution_count": 9,
   "metadata": {
    "collapsed": false
   },
   "outputs": [],
   "source": [
    "logits=SeqDnaseClassifier.get_logits()\n",
    "labels=tf.placeholder(tf.float32,shape=(None,1))\n",
    "loss=tf.reduce_mean(tf.nn.sigmoid_cross_entropy_with_logits(labels=labels,logits=logits))\n",
    "optimizer=tf.train.AdamOptimizer(learning_rate=.0003)\n",
    "train_op=optimizer.minimize(loss)\n",
    "\n",
    "\n",
    "\n"
   ]
  },
  {
   "cell_type": "code",
   "execution_count": 10,
   "metadata": {
    "collapsed": true
   },
   "outputs": [],
   "source": [
    "train_data='data/train_intervals.bed'\n",
    "train_labels='data/train_labels.npy'\n",
    "validation_data='data/validation_intervals.bed'\n",
    "validation_labels='data/validation_labels.npy'\n"
   ]
  },
  {
   "cell_type": "code",
   "execution_count": 11,
   "metadata": {
    "collapsed": false
   },
   "outputs": [],
   "source": [
    "genome_file_path='/srv/scratch/manyu/Baseline_TF_binding_models/extracted_data/GRCh38.p3.genome.fa/'"
   ]
  },
  {
   "cell_type": "code",
   "execution_count": 12,
   "metadata": {
    "collapsed": true
   },
   "outputs": [],
   "source": [
    "extracted_genome=ArrayExtractor(genome_file_path)"
   ]
  },
  {
   "cell_type": "code",
   "execution_count": 13,
   "metadata": {
    "collapsed": true
   },
   "outputs": [],
   "source": [
    "train_data_bedtool=BedTool(train_data)\n",
    "validation_data_bedtool=BedTool(validation_data)"
   ]
  },
  {
   "cell_type": "code",
   "execution_count": 14,
   "metadata": {
    "collapsed": false
   },
   "outputs": [],
   "source": [
    "train_label_vals=np.load(train_labels)\n",
    "train_label_vals=np.reshape(train_label_vals,(len(train_label_vals,)))\n",
    "validation_label_vals=np.load(validation_labels)"
   ]
  },
  {
   "cell_type": "code",
   "execution_count": 15,
   "metadata": {
    "collapsed": false
   },
   "outputs": [],
   "source": [
    "interval_batch=[train_data_bedtool[_] for _ in range(0,128)]\n",
    "label_batch=train_label_vals[:128]\n",
    "extracted_batch=extracted_genome(interval_batch)\n",
    "dnase_batch=np.expand_dims(extracted_batch[:,:,0],axis=-1)"
   ]
  },
  {
   "cell_type": "code",
   "execution_count": 16,
   "metadata": {
    "collapsed": false
   },
   "outputs": [],
   "source": [
    "feed_dict={dnase_placeholder:dnase_batch,seq_placeholder:extracted_batch,labels:label_batch.reshape((len(label_batch),1))}\n",
    "init_op = tf.global_variables_initializer()\n",
    "sess.run(init_op)"
   ]
  },
  {
   "cell_type": "code",
   "execution_count": 17,
   "metadata": {
    "collapsed": false
   },
   "outputs": [
    {
     "name": "stdout",
     "output_type": "stream",
     "text": [
      "[0.7788515, None]\n",
      "[0.6687298, None]\n",
      "[0.6852591, None]\n",
      "[0.6742066, None]\n",
      "[0.66372895, None]\n",
      "[0.661337, None]\n",
      "[0.6630584, None]\n",
      "[0.6632564, None]\n",
      "[0.66050184, None]\n",
      "[0.6562425, None]\n",
      "[0.6523015, None]\n",
      "[0.65013075, None]\n",
      "[0.6492052, None]\n",
      "[0.64615536, None]\n",
      "[0.6404654, None]\n",
      "[0.6345513, None]\n",
      "[0.6298615, None]\n",
      "[0.6243867, None]\n",
      "[0.6155157, None]\n",
      "[0.6058792, None]\n",
      "[0.59804523, None]\n",
      "[0.58698124, None]\n",
      "[0.5742967, None]\n",
      "[0.56246495, None]\n",
      "[0.5458544, None]\n",
      "[0.5304446, None]\n",
      "[0.51076496, None]\n",
      "[0.4939952, None]\n",
      "[0.47551024, None]\n",
      "[0.45573437, None]\n",
      "[0.4369752, None]\n",
      "[0.42151907, None]\n",
      "[0.42545533, None]\n",
      "[0.41805, None]\n",
      "[0.3714412, None]\n",
      "[0.38996652, None]\n",
      "[0.35273665, None]\n",
      "[0.3448971, None]\n",
      "[0.32916915, None]\n",
      "[0.31327614, None]\n",
      "[0.30883956, None]\n",
      "[0.28546965, None]\n",
      "[0.28238416, None]\n",
      "[0.27084774, None]\n",
      "[0.24656029, None]\n",
      "[0.24459088, None]\n",
      "[0.22871093, None]\n",
      "[0.20924348, None]\n",
      "[0.20643999, None]\n",
      "[0.19588771, None]\n",
      "[0.17969464, None]\n",
      "[0.16845442, None]\n",
      "[0.1508508, None]\n",
      "[0.14399186, None]\n",
      "[0.13815781, None]\n",
      "[0.12051935, None]\n",
      "[0.11377846, None]\n",
      "[0.10213155, None]\n",
      "[0.09017643, None]\n",
      "[0.08627848, None]\n",
      "[0.079093724, None]\n",
      "[0.07662829, None]\n",
      "[0.07384713, None]\n",
      "[0.063429035, None]\n",
      "[0.05112097, None]\n",
      "[0.048152864, None]\n",
      "[0.046046767, None]\n",
      "[0.039181262, None]\n",
      "[0.034303945, None]\n",
      "[0.03242358, None]\n",
      "[0.026831325, None]\n",
      "[0.024782429, None]\n",
      "[0.02405711, None]\n",
      "[0.019233104, None]\n",
      "[0.017879274, None]\n",
      "[0.0162315, None]\n",
      "[0.014972072, None]\n",
      "[0.0125994235, None]\n",
      "[0.011435099, None]\n",
      "[0.010515431, None]\n",
      "[0.009893185, None]\n",
      "[0.008475316, None]\n",
      "[0.0077794055, None]\n",
      "[0.006911265, None]\n",
      "[0.0066966657, None]\n",
      "[0.0061087045, None]\n",
      "[0.0054765176, None]\n",
      "[0.005066069, None]\n",
      "[0.0045474176, None]\n",
      "[0.0043121334, None]\n",
      "[0.004113802, None]\n",
      "[0.0037444234, None]\n",
      "[0.0034902908, None]\n",
      "[0.0032582749, None]\n",
      "[0.0029979264, None]\n",
      "[0.0028511137, None]\n",
      "[0.0027535292, None]\n",
      "[0.002595612, None]\n",
      "[0.002437858, None]\n",
      "[0.0023229197, None]\n"
     ]
    }
   ],
   "source": [
    "for i in range(100):\n",
    "    print(sess.run([loss,train_op],feed_dict=feed_dict))"
   ]
  },
  {
   "cell_type": "code",
   "execution_count": 47,
   "metadata": {
    "collapsed": false
   },
   "outputs": [],
   "source": [
    "weights=SeqDnaseClassifier.model.get_weights()"
   ]
  },
  {
   "cell_type": "code",
   "execution_count": 57,
   "metadata": {
    "collapsed": false
   },
   "outputs": [],
   "source": [
    "sess.run(tf.global_variables_initializer())"
   ]
  },
  {
   "cell_type": "code",
   "execution_count": 58,
   "metadata": {
    "collapsed": false
   },
   "outputs": [
    {
     "data": {
      "text/plain": [
       "1"
      ]
     },
     "execution_count": 58,
     "metadata": {},
     "output_type": "execute_result"
    }
   ],
   "source": [
    "1"
   ]
  },
  {
   "cell_type": "code",
   "execution_count": 61,
   "metadata": {
    "collapsed": false
   },
   "outputs": [
    {
     "data": {
      "text/plain": [
       "array([[[0, 1],\n",
       "        [2, 3]],\n",
       "\n",
       "       [[4, 5],\n",
       "        [6, 7]]])"
      ]
     },
     "execution_count": 61,
     "metadata": {},
     "output_type": "execute_result"
    }
   ],
   "source": [
    "A = np.arange(8).reshape((2,2,2))\n",
    "A"
   ]
  },
  {
   "cell_type": "code",
   "execution_count": 63,
   "metadata": {
    "collapsed": false
   },
   "outputs": [],
   "source": [
    "A=np.random.random((4,1000))"
   ]
  },
  {
   "cell_type": "code",
   "execution_count": 65,
   "metadata": {
    "collapsed": false
   },
   "outputs": [],
   "source": [
    "A_=np.flip(np.flip(A,axis=0),axis=1)\n",
    "B_=np.flip(np.flip(A,axis=1),axis=0)"
   ]
  },
  {
   "cell_type": "code",
   "execution_count": 70,
   "metadata": {
    "collapsed": false
   },
   "outputs": [],
   "source": [
    "C=np.random.random((10,1000,4))"
   ]
  },
  {
   "cell_type": "code",
   "execution_count": 71,
   "metadata": {
    "collapsed": true
   },
   "outputs": [],
   "source": [
    "rev_comp_c=C[:,::-1,::-1]"
   ]
  },
  {
   "cell_type": "code",
   "execution_count": 74,
   "metadata": {
    "collapsed": false
   },
   "outputs": [],
   "source": [
    "A=np.arange(100).reshape((10,10))"
   ]
  },
  {
   "cell_type": "code",
   "execution_count": 25,
   "metadata": {
    "collapsed": false
   },
   "outputs": [],
   "source": [
    "C_mask=extracted_batch[:,:,1].reshape((128,1000,1))"
   ]
  },
  {
   "cell_type": "code",
   "execution_count": 26,
   "metadata": {
    "collapsed": false
   },
   "outputs": [
    {
     "data": {
      "text/plain": [
       "(128, 1000, 1)"
      ]
     },
     "execution_count": 26,
     "metadata": {},
     "output_type": "execute_result"
    }
   ],
   "source": [
    "C_mask.shape"
   ]
  },
  {
   "cell_type": "code",
   "execution_count": 23,
   "metadata": {
    "collapsed": false
   },
   "outputs": [],
   "source": [
    "methylation=np.random.random((128,1000,1))"
   ]
  },
  {
   "cell_type": "code",
   "execution_count": 30,
   "metadata": {
    "collapsed": false
   },
   "outputs": [],
   "source": [
    "masked_methylation=methylation*C_mask"
   ]
  },
  {
   "cell_type": "code",
   "execution_count": 33,
   "metadata": {
    "collapsed": false
   },
   "outputs": [],
   "source": [
    "from keras import backend as K"
   ]
  },
  {
   "cell_type": "code",
   "execution_count": 34,
   "metadata": {
    "collapsed": false
   },
   "outputs": [
    {
     "data": {
      "text/plain": [
       "<function keras.backend.tensorflow_backend.reverse>"
      ]
     },
     "execution_count": 34,
     "metadata": {},
     "output_type": "execute_result"
    }
   ],
   "source": [
    "K.reverse"
   ]
  },
  {
   "cell_type": "code",
   "execution_count": 55,
   "metadata": {
    "collapsed": false
   },
   "outputs": [],
   "source": [
    "seq_preds=Input(shape=(10,4))\n",
    "methylation_preds=Input(shape=(10,1))\n",
    "reverse_comp_seq=K.reverse(K.reverse(seq_preds,axes=-1),axes=-2)\n",
    "reverse_methylation=K.reverse(methylation_preds,axes=-2)\n",
    "C_locations_forward_strand=K.expand_dims(seq_preds[:,:,1],axis=-1)\n",
    "C_locations_reverse_strand=K.expand_dims(reverse_comp_seq[:,:,1],axis=-1)\n",
    "forward_methylation_masked=methylation_preds*C_locations_forward_strand   #Using the mask that is C\n",
    "reverse_methylation_masked=reverse_methylation*C_locations_reverse_strand  #Using the reverse comp mask on C"
   ]
  },
  {
   "cell_type": "code",
   "execution_count": 44,
   "metadata": {
    "collapsed": false
   },
   "outputs": [
    {
     "data": {
      "text/plain": [
       "<tf.Tensor 'ExpandDims_5:0' shape=(?, 10, 1) dtype=float32>"
      ]
     },
     "execution_count": 44,
     "metadata": {},
     "output_type": "execute_result"
    }
   ],
   "source": [
    "C_locations_reverse_strand\n"
   ]
  },
  {
   "cell_type": "code",
   "execution_count": 59,
   "metadata": {
    "collapsed": true
   },
   "outputs": [],
   "source": [
    "def convert_string_to_array(string):\n",
    "    map_={'a':0,'c':1,'g':2,'t':3}\n",
    "    to_return=np.zeros((len(string),4))\n",
    "    for _ in range(len(string)):\n",
    "        to_return[_,map_[string[_]]]=1\n",
    "    return np.expand_dims(to_return,axis=0)    \n",
    "       "
   ]
  },
  {
   "cell_type": "code",
   "execution_count": 60,
   "metadata": {
    "collapsed": false
   },
   "outputs": [],
   "source": [
    "sequence=convert_string_to_array('acgcgccgtt')\n",
    "methylation=np.reshape(np.array([0,0.5,0.5,0.6,0.7,0,0.6,0.7,0,0]),(1,10,1))"
   ]
  },
  {
   "cell_type": "code",
   "execution_count": 61,
   "metadata": {
    "collapsed": false
   },
   "outputs": [],
   "source": [
    "feed_dict={seq_preds:sequence,methylation_preds:methylation}"
   ]
  },
  {
   "cell_type": "code",
   "execution_count": 63,
   "metadata": {
    "collapsed": false
   },
   "outputs": [],
   "source": [
    "rev_comp_seq,rev_meth,C_forw,C_rev,fw_mask_meth,rev_mask_meth=sess.run([reverse_comp_seq,reverse_methylation,C_locations_forward_strand,C_locations_reverse_strand,\n",
    "          forward_methylation_masked,reverse_methylation_masked],feed_dict=feed_dict)"
   ]
  },
  {
   "cell_type": "code",
   "execution_count": 85,
   "metadata": {
    "collapsed": false
   },
   "outputs": [],
   "source": [
    "def convert_array_to_string(array):\n",
    "    array=np.squeeze(array,axis=0)\n",
    "    map_={0:'a',1:'c',2:'g',3:'t'}\n",
    "    string=[]\n",
    "    for i in range(len(array)):\n",
    "        string.append(map_[np.argmax(array[i])])\n",
    "    return ''.join(string)   \n",
    "        \n",
    "    "
   ]
  },
  {
   "cell_type": "code",
   "execution_count": 88,
   "metadata": {
    "collapsed": false
   },
   "outputs": [
    {
     "data": {
      "text/plain": [
       "'aacggcgcgt'"
      ]
     },
     "execution_count": 88,
     "metadata": {},
     "output_type": "execute_result"
    }
   ],
   "source": [
    "convert_array_to_string(rev_comp_seq)"
   ]
  },
  {
   "cell_type": "code",
   "execution_count": 6,
   "metadata": {
    "collapsed": false
   },
   "outputs": [],
   "source": [
    "from keras import Input"
   ]
  },
  {
   "cell_type": "code",
   "execution_count": 26,
   "metadata": {
    "collapsed": false
   },
   "outputs": [],
   "source": [
    "a=Input((37,50))"
   ]
  },
  {
   "cell_type": "code",
   "execution_count": 18,
   "metadata": {
    "collapsed": false
   },
   "outputs": [],
   "source": [
    "layer_shape=K.get_variable_shape(a)\n",
    "flattened_shape=layer_shape[1]*layer_shape[2]\n",
    "Reshape((flattened_shape,))(a)"
   ]
  },
  {
   "cell_type": "code",
   "execution_count": 21,
   "metadata": {
    "collapsed": false
   },
   "outputs": [],
   "source": [
    "from keras.layers import Reshape\n"
   ]
  },
  {
   "cell_type": "code",
   "execution_count": 27,
   "metadata": {
    "collapsed": false
   },
   "outputs": [
    {
     "data": {
      "text/plain": [
       "<tf.Tensor 'reshape_4/Reshape:0' shape=(?, 1850) dtype=float32>"
      ]
     },
     "execution_count": 27,
     "metadata": {},
     "output_type": "execute_result"
    }
   ],
   "source": [
    "Reshape((flattened_shape,))(a)"
   ]
  },
  {
   "cell_type": "code",
   "execution_count": null,
   "metadata": {
    "collapsed": true
   },
   "outputs": [],
   "source": []
  }
 ],
 "metadata": {
  "anaconda-cloud": {},
  "kernelspec": {
   "display_name": "Python [conda env:tensorflow]",
   "language": "python",
   "name": "conda-env-tensorflow-py"
  },
  "language_info": {
   "codemirror_mode": {
    "name": "ipython",
    "version": 2
   },
   "file_extension": ".py",
   "mimetype": "text/x-python",
   "name": "python",
   "nbconvert_exporter": "python",
   "pygments_lexer": "ipython2",
   "version": "2.7.13"
  }
 },
 "nbformat": 4,
 "nbformat_minor": 1
}
